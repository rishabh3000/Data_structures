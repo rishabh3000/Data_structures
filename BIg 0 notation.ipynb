{
 "cells": [
  {
   "cell_type": "code",
   "execution_count": 1,
   "metadata": {},
   "outputs": [
    {
     "data": {
      "text/plain": [
       "[4, 36, 16, 64, 81]"
      ]
     },
     "execution_count": 1,
     "metadata": {},
     "output_type": "execute_result"
    }
   ],
   "source": [
    "def get_squared_numbers(numbers):\n",
    "    squared_numbers = []\n",
    "    for n in numbers:\n",
    "        squared_numbers.append(n*n)\n",
    "    return squared_numbers\n",
    "numbers=[2,6,4,8,9]\n",
    "get_squared_numbers(numbers)"
   ]
  },
  {
   "cell_type": "code",
   "execution_count": 2,
   "metadata": {},
   "outputs": [],
   "source": [
    "def find_first_pe(prices,eps,index):\n",
    "    pe=prices[index/eps[index]]\n",
    "    return pe"
   ]
  },
  {
   "cell_type": "code",
   "execution_count": 3,
   "metadata": {},
   "outputs": [
    {
     "name": "stdout",
     "output_type": "stream",
     "text": [
      "1\n",
      "6\n",
      "7\n"
     ]
    }
   ],
   "source": [
    "numbers= [2,3,4,5,6,7,3,3,4]\n",
    "duplicates = None\n",
    "for i in range (len(numbers)):\n",
    "    for j in range(i+1,len(numbers)):\n",
    "        if numbers[i]==numbers[j]:\n",
    "            duplicates = numbers[i]\n",
    "            break\n",
    "        \n",
    "for i in range(len(numbers)):\n",
    "    if numbers[i]== duplicates:\n",
    "        print(i)"
   ]
  },
  {
   "cell_type": "code",
   "execution_count": 4,
   "metadata": {},
   "outputs": [
    {
     "name": "stdout",
     "output_type": "stream",
     "text": [
      "3\n"
     ]
    }
   ],
   "source": [
    "def searching_number(num):\n",
    "    for i in range(len(num)):\n",
    "        if num[i]==45:\n",
    "            print(i)\n",
    "        \n",
    "num=[12,34,5,45,35,78]\n",
    "searching_number(num)"
   ]
  },
  {
   "cell_type": "code",
   "execution_count": 5,
   "metadata": {},
   "outputs": [
    {
     "name": "stdout",
     "output_type": "stream",
     "text": [
      "In feb this much extra was spent compared to jan: 150\n"
     ]
    }
   ],
   "source": [
    "exp=[2200,2350,2600,2130,2190]\n",
    "print(\"In feb this much extra was spent compared to jan:\",exp[1]-exp[0])"
   ]
  },
  {
   "cell_type": "code",
   "execution_count": 6,
   "metadata": {},
   "outputs": [
    {
     "name": "stdout",
     "output_type": "stream",
     "text": [
      "Total expense in first quarter: 7150\n"
     ]
    }
   ],
   "source": [
    "print(\"Total expense in first quarter:\",exp[0]+exp[1]+exp[2])"
   ]
  },
  {
   "cell_type": "code",
   "execution_count": 7,
   "metadata": {},
   "outputs": [
    {
     "name": "stdout",
     "output_type": "stream",
     "text": [
      "Did I spent 2000$ in any month?  False\n"
     ]
    }
   ],
   "source": [
    "print(\"Did I spent 2000$ in any month? \", 2000 in exp) "
   ]
  },
  {
   "cell_type": "code",
   "execution_count": 8,
   "metadata": {},
   "outputs": [
    {
     "name": "stdout",
     "output_type": "stream",
     "text": [
      "Expenses at the end of June: [2200, 2350, 2600, 2130, 2190, 1980]\n"
     ]
    }
   ],
   "source": [
    "exp.append(1980)\n",
    "print(\"Expenses at the end of June:\",exp)"
   ]
  },
  {
   "cell_type": "code",
   "execution_count": 9,
   "metadata": {},
   "outputs": [
    {
     "name": "stdout",
     "output_type": "stream",
     "text": [
      "expenes in june: 1980\n"
     ]
    }
   ],
   "source": [
    "print(\"expenes in june:\", exp[5])"
   ]
  },
  {
   "cell_type": "code",
   "execution_count": 10,
   "metadata": {},
   "outputs": [
    {
     "name": "stdout",
     "output_type": "stream",
     "text": [
      "expense after returning in april: 1930\n"
     ]
    }
   ],
   "source": [
    "exp[3]=exp[3]-200\n",
    "print(\"expense after returning in april:\",exp[3])"
   ]
  },
  {
   "cell_type": "code",
   "execution_count": 11,
   "metadata": {},
   "outputs": [
    {
     "name": "stdout",
     "output_type": "stream",
     "text": [
      "5\n"
     ]
    }
   ],
   "source": [
    "heros=['spider man','thor','hulk','iron man','captain america']\n",
    "print(len(heros))"
   ]
  },
  {
   "cell_type": "code",
   "execution_count": 12,
   "metadata": {},
   "outputs": [
    {
     "name": "stdout",
     "output_type": "stream",
     "text": [
      "['spider man', 'thor', 'hulk', 'black panther', 'iron man', 'captain america']\n"
     ]
    }
   ],
   "source": [
    "heros.insert(3,'black panther')\n",
    "print(heros)"
   ]
  },
  {
   "cell_type": "code",
   "execution_count": 13,
   "metadata": {},
   "outputs": [
    {
     "name": "stdout",
     "output_type": "stream",
     "text": [
      "['spider man', 'doctor strange', 'black panther', 'iron man', 'captain america']\n"
     ]
    }
   ],
   "source": [
    "heros[1:3]=['doctor strange']\n",
    "print(heros)"
   ]
  },
  {
   "cell_type": "code",
   "execution_count": 14,
   "metadata": {},
   "outputs": [
    {
     "name": "stdout",
     "output_type": "stream",
     "text": [
      "['black panther', 'captain america', 'doctor strange', 'iron man', 'spider man']\n"
     ]
    }
   ],
   "source": [
    "heros.sort()\n",
    "print(heros)"
   ]
  },
  {
   "cell_type": "code",
   "execution_count": 15,
   "metadata": {},
   "outputs": [
    {
     "name": "stdout",
     "output_type": "stream",
     "text": [
      "Enter max number: 12\n",
      "Odd numbers:  [1, 3, 5, 7, 9, 11]\n"
     ]
    }
   ],
   "source": [
    "max = int(input(\"Enter max number: \"))\n",
    "\n",
    "odd_numbers = []\n",
    "\n",
    "for i in range(1, max):\n",
    "    if i % 2 == 1:\n",
    "        odd_numbers.append(i)\n",
    "\n",
    "print(\"Odd numbers: \", odd_numbers)"
   ]
  },
  {
   "cell_type": "code",
   "execution_count": null,
   "metadata": {},
   "outputs": [],
   "source": []
  }
 ],
 "metadata": {
  "kernelspec": {
   "display_name": "Python 3",
   "language": "python",
   "name": "python3"
  },
  "language_info": {
   "codemirror_mode": {
    "name": "ipython",
    "version": 3
   },
   "file_extension": ".py",
   "mimetype": "text/x-python",
   "name": "python",
   "nbconvert_exporter": "python",
   "pygments_lexer": "ipython3",
   "version": "3.8.3"
  }
 },
 "nbformat": 4,
 "nbformat_minor": 4
}
